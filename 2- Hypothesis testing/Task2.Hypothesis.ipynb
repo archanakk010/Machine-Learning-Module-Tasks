{
 "cells": [
  {
   "cell_type": "markdown",
   "id": "af269f88",
   "metadata": {},
   "source": [
    "# <center> <b> Hypothesis testing  </b> </center>"
   ]
  },
  {
   "cell_type": "markdown",
   "id": "3bd1ece9",
   "metadata": {},
   "source": [
    "\n",
    "####  Hypothesis testing is a statistical technique employed to draw conclusions about population characteristics using sample data. By comparing the observed data with what's expected under a null hypothesis, which embodies the status quo or a default assumption, researchers aim to ascertain whether the observed outcomes are statistically significant enough to refute the null hypothesis in favor of an alternative hypothesis. This method allows for the assessment of the credibility of assertions or claims based on the evidence provided by the sample data, facilitating informed decision-making in various fields by providing a structured framework for drawing meaningful conclusions."
   ]
  },
  {
   "cell_type": "markdown",
   "id": "7efa33af",
   "metadata": {},
   "source": [
    "#### Q1.Suppose a child psychologist claims that the average time working mothers spend talking to their children is at least 11 minutes per day. You conduct a random sample of 1000 working mothers and find they spend an average of 11.5 minutes per day talking with their children. Assume prior research suggests the population standard deviation is 2.3 minutes.Conduct a test with a level of significance of alpha = 0.05."
   ]
  },
  {
   "cell_type": "code",
   "execution_count": 1,
   "id": "8202b834",
   "metadata": {},
   "outputs": [],
   "source": [
    "#Import norm module from the scipy.stats library\n",
    "from scipy.stats import norm"
   ]
  },
  {
   "cell_type": "code",
   "execution_count": 2,
   "id": "9fd3b1ab",
   "metadata": {},
   "outputs": [],
   "source": [
    "# Given data\n",
    "population_std = 2.3\n",
    "sample_size = 1000\n",
    "sample_mean = 11.5\n",
    "population_mean = 11\n",
    "alpha = 0.05"
   ]
  },
  {
   "cell_type": "markdown",
   "id": "3c1c4b70",
   "metadata": {},
   "source": [
    "## 1.Formulate Hypotheses:\n",
    "#### Null Hypothesis (H0): μ ≤ 11 minutes\n",
    "\n",
    "#### Alternative Hypothesis (Ha): μ > 11 minutes"
   ]
  },
  {
   "cell_type": "markdown",
   "id": "7e8745e6",
   "metadata": {},
   "source": [
    "## 2.Choose Test Statistic:\n",
    "##### Since the population standard deviation is known and the sample size is large (n > 30), we use the Z-test."
   ]
  },
  {
   "cell_type": "markdown",
   "id": "ee221bce",
   "metadata": {},
   "source": [
    "## 3.Calculate Z-score:\n",
    "\n",
    "### Z = (x̄ - μ) / (σ / √n)\n",
    "##### sample_mean(x̄)=11.5 minutes\n",
    "##### population_mean(μ)=11 minutes\n",
    "##### population_std(σ)=2.3 minutes\n",
    "##### sample_size(n)=1000\n",
    "##### significance level(α)=0.05"
   ]
  },
  {
   "cell_type": "code",
   "execution_count": 3,
   "id": "2fdc123c",
   "metadata": {},
   "outputs": [
    {
     "data": {
      "text/plain": [
       "6.874516652539955"
      ]
     },
     "execution_count": 3,
     "metadata": {},
     "output_type": "execute_result"
    }
   ],
   "source": [
    "# Calculate Z-score\n",
    "Z = (sample_mean - population_mean) / (population_std / (sample_size ** 0.5))\n",
    "Z"
   ]
  },
  {
   "cell_type": "markdown",
   "id": "ec6b65e6",
   "metadata": {},
   "source": [
    "## 4.Determine Critical Value:\n",
    "##### At α=0.05 the critical Z-value for a one-tailed test is approximately 1.645."
   ]
  },
  {
   "cell_type": "code",
   "execution_count": 4,
   "id": "a029911c",
   "metadata": {},
   "outputs": [
    {
     "data": {
      "text/plain": [
       "1.6448536269514722"
      ]
     },
     "execution_count": 4,
     "metadata": {},
     "output_type": "execute_result"
    }
   ],
   "source": [
    "# Find critical value for one-tailed test\n",
    "critical_value = norm.ppf(1-alpha)\n",
    "critical_value"
   ]
  },
  {
   "cell_type": "markdown",
   "id": "03e8c3df",
   "metadata": {},
   "source": [
    "## 5.Make Decision:\n",
    "##### Since the calculated Z-value (6.89) is much greater than the critical Z-value (1.645), we fail to accept null hypothesis."
   ]
  },
  {
   "cell_type": "markdown",
   "id": "2cb684a0",
   "metadata": {},
   "source": [
    "## 6.Interpret the Results:\n",
    "\n",
    "Based on the decision, interpret whether there is sufficient evidence to support the psychologist's claim."
   ]
  },
  {
   "cell_type": "markdown",
   "id": "30898a8c",
   "metadata": {},
   "source": [
    "## 7.Conclusion:\n",
    "##### There is enough evidence to conclude that the average time working mothers spend talking to their children is more than 11 minutes per day."
   ]
  },
  {
   "cell_type": "code",
   "execution_count": null,
   "id": "05fd1629",
   "metadata": {},
   "outputs": [],
   "source": []
  },
  {
   "cell_type": "markdown",
   "id": "a9eaf6e0",
   "metadata": {},
   "source": [
    "#### Q2. A coffee shop claims that their average wait time for customers is less than 5 minutes. To test this claim, a sample of 40 customers is taken, and their wait times are recorded. The sample mean wait time is found to be 4.6 minutes with a standard deviation of 0.8 minutes. Perform a hypothesis test at a significance level of 0.05 and determine whether there is enough evidence to support the coffee shop's claim."
   ]
  },
  {
   "cell_type": "code",
   "execution_count": 5,
   "id": "a0406de4",
   "metadata": {},
   "outputs": [],
   "source": [
    "#Import t module from the scipy.stats library\n",
    "from scipy.stats import t"
   ]
  },
  {
   "cell_type": "code",
   "execution_count": 6,
   "id": "07332010",
   "metadata": {},
   "outputs": [],
   "source": [
    "# Given data\n",
    "sample_size = 40\n",
    "sample_mean = 4.6\n",
    "sample_std = 0.8\n",
    "population_mean = 5\n",
    "alpha = 0.05"
   ]
  },
  {
   "cell_type": "markdown",
   "id": "2394c3ac",
   "metadata": {},
   "source": [
    "## 1.Formulate Hypotheses:\n",
    "#### Null Hypothesis (H0): μ ≥ 5  minutes\n",
    "#### Alternative Hypothesis (Ha):  μ < 5  minutes"
   ]
  },
  {
   "cell_type": "markdown",
   "id": "6de00d46",
   "metadata": {},
   "source": [
    "## 2.Choose Test Statistic:\n",
    "##### If the population standard deviation is not given, and the sample size is less than 30, we use the T-test. However, for larger sample sizes (usually greater than 30), the t-test can also be used even if the population standard deviation is unknown due to the Central Limit Theorem, which states that the distribution of sample means approaches a normal distribution as the sample size increases."
   ]
  },
  {
   "cell_type": "markdown",
   "id": "11086dce",
   "metadata": {},
   "source": [
    "## 3.Calculate t-score:\n",
    "### t = (x̄ - μ) / (s / √n)\n",
    "##### Sample_mean(x̄)=4.6 minutes\n",
    "##### Population_mean(μ)=5 minutes\n",
    "##### Sample_std(s)=0.8 minutes\n",
    "##### Sample_size(n)=40\n",
    "##### Significance level(α)=0.05\n",
    "##### Degree of freedom(n-1)=39"
   ]
  },
  {
   "cell_type": "code",
   "execution_count": 7,
   "id": "6a9fdd47",
   "metadata": {},
   "outputs": [
    {
     "data": {
      "text/plain": [
       "-3.162277660168382"
      ]
     },
     "execution_count": 7,
     "metadata": {},
     "output_type": "execute_result"
    }
   ],
   "source": [
    "# Calculate t-score\n",
    "t_score = (sample_mean - population_mean) / (sample_std / (sample_size ** 0.5))\n",
    "t_score "
   ]
  },
  {
   "cell_type": "markdown",
   "id": "2119d4fa",
   "metadata": {},
   "source": [
    "## 4.Determine Critical Value:\n",
    "##### At α=0.05 and degrees of freedom (df) = 39, the critical t-value for a one-tailed test is approximately -1.685."
   ]
  },
  {
   "cell_type": "code",
   "execution_count": 8,
   "id": "4087b16f",
   "metadata": {},
   "outputs": [
    {
     "data": {
      "text/plain": [
       "39"
      ]
     },
     "execution_count": 8,
     "metadata": {},
     "output_type": "execute_result"
    }
   ],
   "source": [
    "# Degrees of freedom\n",
    "df = sample_size - 1\n",
    "df "
   ]
  },
  {
   "cell_type": "code",
   "execution_count": 9,
   "id": "ac6faab0",
   "metadata": {},
   "outputs": [
    {
     "data": {
      "text/plain": [
       "-1.6848751194974"
      ]
     },
     "execution_count": 9,
     "metadata": {},
     "output_type": "execute_result"
    }
   ],
   "source": [
    "# Find critical value for one-tailed test\n",
    "critical_value = t.ppf(alpha, df)\n",
    "critical_value"
   ]
  },
  {
   "cell_type": "markdown",
   "id": "8059a797",
   "metadata": {},
   "source": [
    "## 5.Make Decision:\n",
    "##### Since the calculated t-value (-3.16) is less than the critical t-value (-1.685), we fail to accept the null hypothesis."
   ]
  },
  {
   "cell_type": "markdown",
   "id": "a94a0302",
   "metadata": {},
   "source": [
    "## 6.Interpret the Results:\n",
    "\n",
    "##### Based on the decision, interpret whether there is sufficient evidence to support the coffee shop's claim."
   ]
  },
  {
   "cell_type": "markdown",
   "id": "14bfb3ba",
   "metadata": {},
   "source": [
    "## 7.Conclusion:\n",
    "##### There is enough evidence to conclude that the average wait time for customers at the coffee shop is less than 5 minutes."
   ]
  },
  {
   "cell_type": "code",
   "execution_count": null,
   "id": "9ace36ad",
   "metadata": {},
   "outputs": [],
   "source": []
  },
  {
   "cell_type": "code",
   "execution_count": null,
   "id": "6fc7b25c",
   "metadata": {},
   "outputs": [],
   "source": []
  },
  {
   "cell_type": "code",
   "execution_count": null,
   "id": "fdc5df17",
   "metadata": {},
   "outputs": [],
   "source": []
  },
  {
   "cell_type": "code",
   "execution_count": null,
   "id": "266e111b",
   "metadata": {},
   "outputs": [],
   "source": []
  }
 ],
 "metadata": {
  "kernelspec": {
   "display_name": "Python 3 (ipykernel)",
   "language": "python",
   "name": "python3"
  },
  "language_info": {
   "codemirror_mode": {
    "name": "ipython",
    "version": 3
   },
   "file_extension": ".py",
   "mimetype": "text/x-python",
   "name": "python",
   "nbconvert_exporter": "python",
   "pygments_lexer": "ipython3",
   "version": "3.10.9"
  }
 },
 "nbformat": 4,
 "nbformat_minor": 5
}
